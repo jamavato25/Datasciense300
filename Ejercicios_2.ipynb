{
  "nbformat": 4,
  "nbformat_minor": 0,
  "metadata": {
    "colab": {
      "name": "Ejercicios 2.ipynb",
      "provenance": [],
      "authorship_tag": "ABX9TyPm3ue3qYgoic4JHk334Gye",
      "include_colab_link": true
    },
    "kernelspec": {
      "name": "python3",
      "display_name": "Python 3"
    },
    "language_info": {
      "name": "python"
    }
  },
  "cells": [
    {
      "cell_type": "markdown",
      "metadata": {
        "id": "view-in-github",
        "colab_type": "text"
      },
      "source": [
        "<a href=\"https://colab.research.google.com/github/jamavato25/Datasciense300/blob/main/Ejercicios_2.ipynb\" target=\"_parent\"><img src=\"https://colab.research.google.com/assets/colab-badge.svg\" alt=\"Open In Colab\"/></a>"
      ]
    },
    {
      "cell_type": "code",
      "metadata": {
        "colab": {
          "base_uri": "https://localhost:8080/"
        },
        "id": "NNcSVZydlU5W",
        "outputId": "0970ac52-9234-4703-b1d1-a3946cd09b04"
      },
      "source": [
        "from google.colab import drive\n",
        "import os\n",
        "drive.mount('/content/gdrive')"
      ],
      "execution_count": null,
      "outputs": [
        {
          "output_type": "stream",
          "name": "stdout",
          "text": [
            "Mounted at /content/gdrive\n"
          ]
        }
      ]
    },
    {
      "cell_type": "code",
      "metadata": {
        "colab": {
          "base_uri": "https://localhost:8080/"
        },
        "id": "OyIXEo2XomfY",
        "outputId": "3d99f1b2-2560-43de-ffb3-e33a4578c9d0"
      },
      "source": [
        "import os\n",
        "print(os.getcwd())\n",
        "#os.chdir(\"/content/gdrive/MyDrive\")\n",
        "print(os.getcwd())"
      ],
      "execution_count": null,
      "outputs": [
        {
          "output_type": "stream",
          "name": "stdout",
          "text": [
            "/content\n",
            "/content\n"
          ]
        }
      ]
    },
    {
      "cell_type": "code",
      "metadata": {
        "colab": {
          "base_uri": "https://localhost:8080/"
        },
        "id": "U5UBqEoEouFW",
        "outputId": "4d867931-41eb-408c-ed37-53ced08d217b"
      },
      "source": [
        "%cd '/content/gdrive/MyDrive/DATA SCIENSE/Semana 1'"
      ],
      "execution_count": null,
      "outputs": [
        {
          "output_type": "stream",
          "name": "stdout",
          "text": [
            "/content/gdrive/MyDrive/DATA SCIENSE/Semana 1\n"
          ]
        }
      ]
    },
    {
      "cell_type": "code",
      "metadata": {
        "id": "yM4OS7Azo61f"
      },
      "source": [
        ""
      ],
      "execution_count": null,
      "outputs": []
    },
    {
      "cell_type": "markdown",
      "metadata": {
        "id": "I4j9xr8Rx5gD"
      },
      "source": [
        "## Ejercicio 1 : Listas\n",
        "\n",
        "Tienen la siguiente lista🏀⚾⚽🥤⭐\n",
        "\n",
        "```list1 = [10, 20, [300, 400, [5000, 6000], 500], 30, 40]```\n",
        "\n",
        "Se desea obtener el siguiente output **pero** usando solo el metódo ```append```:\n",
        "\n",
        "```[10, 20, [300, 400, [5000, 6000, 7000], 500], 30, 40]```"
      ]
    },
    {
      "cell_type": "code",
      "metadata": {
        "colab": {
          "base_uri": "https://localhost:8080/"
        },
        "id": "rPwb2iTMpBMW",
        "outputId": "38d5cd42-7ccf-40a8-834e-3cf04a0e3e5b"
      },
      "source": [
        "import numpy as np\n",
        "list1=[10,20,[300,400,[5000,6000],500],30,40]\n",
        "list1[2][2].append(7000)\n",
        "print(list1)\n"
      ],
      "execution_count": null,
      "outputs": [
        {
          "output_type": "stream",
          "name": "stdout",
          "text": [
            "[10, 20, [300, 400, [5000, 6000, 7000], 500], 30, 40]\n"
          ]
        }
      ]
    },
    {
      "cell_type": "markdown",
      "metadata": {
        "id": "eFuPIGzgHlhm"
      },
      "source": [
        ""
      ]
    },
    {
      "cell_type": "markdown",
      "metadata": {
        "id": "8i5P4IhWzEUM"
      },
      "source": [
        "## Ejercicio 2 : Sets\n",
        "Dados los siguientes conjuntos⛹✅☁⚽✨\n",
        "\n",
        "```s1 = {10, 20, 30, 40, 50}```\n",
        "\n",
        "```s2 = {30, 40, 50, 60, 70}```\n",
        "\n",
        "1. Como es posible obtener el siguiente output con alguno de los metódos vistos para sets\n",
        "\n",
        "```{40, 50, 30}```\n",
        "\n",
        "2. Como es posible obtener el siguiente output con alguno de los metódos vistos para sets\n",
        "\n",
        "```{70, 40, 10, 50, 20, 60, 30}```\n",
        "\n",
        "3. Extraer todos los elementos de s2 que no estan en s1\n"
      ]
    },
    {
      "cell_type": "code",
      "metadata": {
        "colab": {
          "base_uri": "https://localhost:8080/"
        },
        "id": "AEjc8aPbHpXu",
        "outputId": "58f62119-9c4e-4a2f-9076-8192e6f1bbef"
      },
      "source": [
        "print('___________')\n",
        "print('Primera Parte')\n",
        "s1= {10,20,30,40,50}\n",
        "s2= {30,40,50,60,70}\n",
        "print(s1.intersection(s2))\n",
        "print('___________')\n",
        "print('Segunda Parte')\n",
        "print(s1.union(s2))\n",
        "print('___________')\n",
        "print('Tercera Parte')\n",
        "s2.difference(s1)\n"
      ],
      "execution_count": null,
      "outputs": [
        {
          "output_type": "stream",
          "name": "stdout",
          "text": [
            "___________\n",
            "Primera Parte\n",
            "{40, 50, 30}\n",
            "___________\n",
            "Segunda Parte\n",
            "{70, 40, 10, 50, 20, 60, 30}\n",
            "___________\n",
            "Tercera Parte\n"
          ]
        },
        {
          "output_type": "execute_result",
          "data": {
            "text/plain": [
              "{60, 70}"
            ]
          },
          "metadata": {},
          "execution_count": 13
        }
      ]
    },
    {
      "cell_type": "markdown",
      "metadata": {
        "id": "baZE7-fXWnvu"
      },
      "source": [
        ""
      ]
    },
    {
      "cell_type": "markdown",
      "metadata": {
        "id": "F42A5Htq0q8A"
      },
      "source": [
        "## Ejercicio 3: Tuplas\n",
        "\n",
        "Dada la siguiente tupla✈⏰♒⛹\n",
        "\n",
        "```tupla=(10, 20, 30, 40, 50)```\n",
        "\n",
        "Responder:\n",
        "\n",
        "1. Ordenar la tupla de mayor a menor\n",
        "2. Extraer los valores de la tupla en las siguientes variables: a,b,c,d,e\n",
        "3. Ahora suponga que tiene la siguiente tupla: \n",
        "```tupla_d = (11, [22, 33], 44, 55)```\n",
        "Recordando el concepto de inmutabilidad de las tuplas, sería posible poder modificar el valor **22** por **222** o en este caso no se puede?. Justifiquen"
      ]
    },
    {
      "cell_type": "code",
      "metadata": {
        "colab": {
          "base_uri": "https://localhost:8080/"
        },
        "id": "h3quu7KNWt9j",
        "outputId": "16cb222b-54af-4ca7-e590-c0ba74e3d35a"
      },
      "source": [
        "tupla=(10,20,30,40,50)\n",
        "print('___________')\n",
        "print('Primera Parte')\n",
        "print(tupla[::-1])\n",
        "print('___________')\n",
        "print('Segunda Parte')\n",
        "a,b,c,d,e= tupla\n",
        "print(a,b,c,d,e)\n",
        "print('___________')\n",
        "print('Tercera Parte')\n",
        "tupla_d=(11,[22,33],44,55)\n",
        "tupla_d[1][0]=222\n",
        "print(tupla_d)"
      ],
      "execution_count": null,
      "outputs": [
        {
          "output_type": "stream",
          "name": "stdout",
          "text": [
            "___________\n",
            "Primera Parte\n",
            "(50, 40, 30, 20, 10)\n",
            "___________\n",
            "Segunda Parte\n",
            "10 20 30 40 50\n",
            "___________\n",
            "Tercera Parte\n",
            "(11, [222, 33], 44, 55)\n"
          ]
        }
      ]
    },
    {
      "cell_type": "markdown",
      "metadata": {
        "id": "HKD69PhqDF_4"
      },
      "source": [
        ""
      ]
    },
    {
      "cell_type": "markdown",
      "metadata": {
        "id": "mqJ1cJVX2X4p"
      },
      "source": [
        "## Ejercicio 4: Diccionarios\n",
        "\n",
        "1. Supongan que tienen el siguiente diccionario similar a lo que se obtiene de una API ([texto del enlace](https://www.freecodecamp.org/news/what-is-an-api-in-english-please-b880a3214a82/)) \n",
        "```\n",
        "dict_david = {\n",
        "    \"clase\": {\n",
        "        \"estudiante\": {\n",
        "            \"nombre\": \"David\",\n",
        "            \"notas\": {\n",
        "                \"fisica\": 4.9,\n",
        "                \"matematicas\": 4.8\n",
        "            }\n",
        "        }\n",
        "    }\n",
        "}\n",
        "```\n",
        "\n",
        "Como se puede obtener el valor respectivo para la llave primaria ```matematicas```❗♥♨ℹ\n",
        "\n",
        "2. Con base en el siguiente diccionario, renombrar la llave primaria ciudad por ubicacion 🥱⏬⚡✉\n",
        "\n",
        "```dic_prueba = {\n",
        "  \"nombre\": \"Juan\",\n",
        "  \"edad\":25,\n",
        "  \"salario\": 8000000,\n",
        "  \"ciudad\": \"Santiago\"\n",
        "}\n",
        "```\n",
        "\n",
        "3. Obtener la llave primaria del valor minimo para el siguiente diccionario 😶🧵⚔♦\n",
        "\n",
        "```\n",
        "dicc = {\n",
        "  'Bayesiana': 4.5,\n",
        "  'Series Tiempo': 4.6,\n",
        "  'Calculo Actuarial': 4.2\n",
        "}\n",
        "```\n",
        "\n",
        "4. Con base en el siguiente diccionario✈⚔😀😼\n",
        "```\n",
        "dict_a = {\n",
        "    'e1': {'nombre': 'David', 'salario': 12000000},\n",
        "    'e2': {'nombre': 'Juan', 'salario': 7590000},\n",
        "    'e3': {'nombre': 'Amir', 'salario': 6787000}\n",
        "}\n",
        "```\n",
        "Reemplazar el valor de 7590000 de Juan por 8000000."
      ]
    },
    {
      "cell_type": "code",
      "metadata": {
        "colab": {
          "base_uri": "https://localhost:8080/"
        },
        "id": "RT9o47qndIob",
        "outputId": "65edfc3e-86ea-4444-88eb-d2e43e54caec"
      },
      "source": [
        "\n",
        "dict_david = {\n",
        " \"clase\": {\n",
        "     \"estudiante\": {\n",
        "         \"nombre\": \"David\",\n",
        "         \"notas\": {\n",
        "             \"fisica\": 4.9,\n",
        "             \"matematicas\": 4.8\n",
        "         }\n",
        "     }\n",
        " }\n",
        "}\n",
        "print('___________')\n",
        "print('Primera Parte')\n",
        "print(dict_david['clase']['estudiante']['notas']['matematicas'])\n",
        "print('___________')\n",
        "print('Segunda Parte')\n",
        "dict_1={\"nombre\": \"Juan\",\n",
        "  \"edad\":25,\n",
        "  \"salario\": 8000000,\n",
        "  \"ciudad\": \"Santiago\"}\n",
        "dict_1['ubicacion'] = dict_1.pop('ciudad')\n",
        "print(dict_1)\n",
        "print('___________')\n",
        "print('tercera Parte')\n",
        "dicc = {\n",
        "  'Bayesiana': 4.5,\n",
        "  'Series Tiempo': 4.6,\n",
        "  'Calculo Actuarial': 4.2\n",
        "}\n",
        "print(min (dicc,key=dicc.get))\n",
        "print('___________')\n",
        "print('Cuarta Parte')\n",
        "dict_a = {\n",
        " 'e1': {'nombre': 'David', 'salario': 12000000},\n",
        " 'e2': {'nombre': 'Juan', 'salario': 7590000},\n",
        " 'e3': {'nombre': 'Amir', 'salario': 6787000}\n",
        "}\n",
        "dict_a['e2']['salario']=8000000\n",
        "print(dict_a)\n",
        "\n"
      ],
      "execution_count": null,
      "outputs": [
        {
          "output_type": "stream",
          "name": "stdout",
          "text": [
            "___________\n",
            "Primera Parte\n",
            "4.8\n",
            "___________\n",
            "Segunda Parte\n",
            "{'nombre': 'Juan', 'edad': 25, 'salario': 8000000, 'ubicacion': 'Santiago'}\n",
            "___________\n",
            "tercera Parte\n",
            "Calculo Actuarial\n",
            "___________\n",
            "Cuarta Parte\n",
            "{'e1': {'nombre': 'David', 'salario': 12000000}, 'e2': {'nombre': 'Juan', 'salario': 8000000}, 'e3': {'nombre': 'Amir', 'salario': 6787000}}\n"
          ]
        }
      ]
    }
  ]
}
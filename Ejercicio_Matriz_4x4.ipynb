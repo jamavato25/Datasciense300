{
  "nbformat": 4,
  "nbformat_minor": 0,
  "metadata": {
    "colab": {
      "name": "Ejercicio Matriz 4x4.ipynb",
      "provenance": [],
      "authorship_tag": "ABX9TyPFICdLngsblM3orI+tJumS",
      "include_colab_link": true
    },
    "kernelspec": {
      "name": "python3",
      "display_name": "Python 3"
    },
    "language_info": {
      "name": "python"
    }
  },
  "cells": [
    {
      "cell_type": "markdown",
      "metadata": {
        "id": "view-in-github",
        "colab_type": "text"
      },
      "source": [
        "<a href=\"https://colab.research.google.com/github/jamavato25/Datasciense300/blob/main/Ejercicio_Matriz_4x4.ipynb\" target=\"_parent\"><img src=\"https://colab.research.google.com/assets/colab-badge.svg\" alt=\"Open In Colab\"/></a>"
      ]
    },
    {
      "cell_type": "code",
      "execution_count": 2,
      "metadata": {
        "id": "rESqp3SEu1J_"
      },
      "outputs": [],
      "source": [
        "import numpy as np"
      ]
    },
    {
      "cell_type": "code",
      "source": [
        "m0 = [[2, 4, 5, 7],\n",
        "     [ 8, 3, 1,11],\n",
        "     [14, 6,10,12],\n",
        "     [ 9,13,15,None]]\n",
        "\n",
        "\n",
        "for p in range(len(m0)) :\n",
        "     for e in range(len(m0[0])):\n",
        "         if m0[p][e]==None:\n",
        "           print(p,e)\n",
        "           q = p\n",
        "           t = e         \n",
        "print(\"_________________________________\")\n",
        "\n",
        "for x in range (q-1, q+2):\n",
        "  for y in range (t-1, t+2):\n",
        "    if x<4:\n",
        "      if y<4:\n",
        "        print(m0[x][y])\n",
        "      else:\n",
        "        pass  \n"
      ],
      "metadata": {
        "colab": {
          "base_uri": "https://localhost:8080/"
        },
        "id": "3tuNRsHJvgmc",
        "outputId": "1c512d41-d4f7-4e0a-d91e-d8399175cae6"
      },
      "execution_count": 14,
      "outputs": [
        {
          "output_type": "stream",
          "name": "stdout",
          "text": [
            "3 3\n",
            "_________________________________\n",
            "10\n",
            "12\n",
            "15\n",
            "None\n"
          ]
        }
      ]
    },
    {
      "cell_type": "code",
      "source": [
        "m1 = [[2, 4, 5, 7],\n",
        "     [10, None, 1, 11],\n",
        "     [14, 6, 10, 8],\n",
        "     [ 9, 12, 15, 3]]\n",
        "\n",
        "for i in range(len(m1)) :\n",
        "     for j in range(len(m1[0])):\n",
        "         if m1[i][j]==None:\n",
        "           print(i,j)\n",
        "           q = i\n",
        "           t = j         \n",
        "print(\"_________________________________\")\n",
        "\n",
        "for x in range (q-1, q+2):\n",
        "  for y in range (t-1, t+2):\n",
        "    if x<=4:\n",
        "      if y<=4:\n",
        "        print(m1[x][y])\n",
        "      else:\n",
        "        pass    "
      ],
      "metadata": {
        "colab": {
          "base_uri": "https://localhost:8080/"
        },
        "id": "SFIxb3u2KRgM",
        "outputId": "089ad303-f038-4a4d-bdfd-f59ff2bb1e3c"
      },
      "execution_count": 15,
      "outputs": [
        {
          "output_type": "stream",
          "name": "stdout",
          "text": [
            "1 1\n",
            "_________________________________\n",
            "2\n",
            "4\n",
            "5\n",
            "10\n",
            "None\n",
            "1\n",
            "14\n",
            "6\n",
            "10\n"
          ]
        }
      ]
    },
    {
      "cell_type": "code",
      "source": [
        "m2 = [[  2,    4,  5, 7],\n",
        "     [  10,   14,  1, 11],\n",
        "     [None,    6,  13, 8],\n",
        "     [   9,   12,  15, 3]]\n",
        "\n",
        "for i in range(len(m2)) :\n",
        "     for j in range(len(m2[0])):\n",
        "         if m2[i][j]==None:\n",
        "           print(i,j)\n",
        "           q = i\n",
        "           t = j  \n",
        "print(\"_________________________________\")\n",
        "\n",
        "for x in range (q-1, q+2):\n",
        "  for y in range (t-1, t+2):\n",
        "    if x>0:\n",
        "      if y<4:\n",
        "        print(m2[x][y])\n",
        "      else:\n",
        "        pass  "
      ],
      "metadata": {
        "colab": {
          "base_uri": "https://localhost:8080/"
        },
        "id": "SQN7NvD8erqQ",
        "outputId": "6aca6a57-4f0f-4584-86ab-871737a69f05"
      },
      "execution_count": 32,
      "outputs": [
        {
          "output_type": "stream",
          "name": "stdout",
          "text": [
            "2 0\n",
            "_________________________________\n",
            "11\n",
            "10\n",
            "14\n",
            "8\n",
            "None\n",
            "6\n",
            "3\n",
            "9\n",
            "12\n"
          ]
        }
      ]
    },
    {
      "cell_type": "code",
      "source": [
        "def busqueda (p):\n",
        "  for i in range(len(p)):\n",
        "    for j in range(len(p[0])):\n",
        "      if p[i][j]==num:\n",
        "        print(i,j)\n",
        "    return(i,j)\n",
        "\n"
      ],
      "metadata": {
        "id": "jFEd1_K9pzUK"
      },
      "execution_count": null,
      "outputs": []
    },
    {
      "cell_type": "code",
      "source": [
        "import random\n",
        "matriz = len[m0]\n",
        "for i in range(0,4):\n",
        " matriz [i] = len[m0]\n",
        "\n",
        "a=\"\"\n",
        "c=1\n",
        "for i in range(4):\n",
        "  for j in range(4):\n",
        "    matriz[i][j] = random.randint(1,16)\n",
        "    a+=str(c)+\" \"\n",
        "    c=c+1\n",
        "    print(a)\n",
        "    a=\"\"\n",
        "\n",
        "posicion = int(input(\"\\n favor ingresar posicion [1_16]: \"))\n",
        "\n",
        "if(posicion % 4 == 0):\n",
        "  fila= int(posición / 4)-1\n",
        "  columna = 4\n",
        "\n",
        "else: \n",
        "    fila = int(posicion/4)\n",
        "    columna = int(posicion % 4) - 1\n",
        "\n",
        "print(\"\\nValor en posicion\", posicion, \" : \", matriz[fila][columna], \" ubicado en la fila: \", fila+1, \"y columna:\", columna+1)\n",
        "a=\"\"\n",
        "for i in range(4):\n",
        "  for j in range(4):\n",
        "    a+=str(matriz[i][j])+\" \"\n",
        "    print(a)\n",
        "    a=\" \"\n"
      ],
      "metadata": {
        "colab": {
          "base_uri": "https://localhost:8080/",
          "height": 235
        },
        "id": "XCEW-2v0IAtI",
        "outputId": "4608ec18-4683-4079-8734-7982ca425012"
      },
      "execution_count": 44,
      "outputs": [
        {
          "output_type": "error",
          "ename": "TypeError",
          "evalue": "ignored",
          "traceback": [
            "\u001b[0;31m---------------------------------------------------------------------------\u001b[0m",
            "\u001b[0;31mTypeError\u001b[0m                                 Traceback (most recent call last)",
            "\u001b[0;32m<ipython-input-44-b002e77abb4d>\u001b[0m in \u001b[0;36m<module>\u001b[0;34m()\u001b[0m\n\u001b[1;32m      1\u001b[0m \u001b[0;32mimport\u001b[0m \u001b[0mrandom\u001b[0m\u001b[0;34m\u001b[0m\u001b[0;34m\u001b[0m\u001b[0m\n\u001b[0;32m----> 2\u001b[0;31m \u001b[0mmatriz\u001b[0m \u001b[0;34m=\u001b[0m \u001b[0mlen\u001b[0m\u001b[0;34m[\u001b[0m\u001b[0mm0\u001b[0m\u001b[0;34m]\u001b[0m\u001b[0;34m\u001b[0m\u001b[0;34m\u001b[0m\u001b[0m\n\u001b[0m\u001b[1;32m      3\u001b[0m \u001b[0;32mfor\u001b[0m \u001b[0mi\u001b[0m \u001b[0;32min\u001b[0m \u001b[0mrange\u001b[0m\u001b[0;34m(\u001b[0m\u001b[0;36m0\u001b[0m\u001b[0;34m,\u001b[0m\u001b[0;36m4\u001b[0m\u001b[0;34m)\u001b[0m\u001b[0;34m:\u001b[0m\u001b[0;34m\u001b[0m\u001b[0;34m\u001b[0m\u001b[0m\n\u001b[1;32m      4\u001b[0m  \u001b[0mmatriz\u001b[0m \u001b[0;34m[\u001b[0m\u001b[0mi\u001b[0m\u001b[0;34m]\u001b[0m \u001b[0;34m=\u001b[0m \u001b[0mlen\u001b[0m\u001b[0;34m[\u001b[0m\u001b[0mm0\u001b[0m\u001b[0;34m]\u001b[0m\u001b[0;34m\u001b[0m\u001b[0;34m\u001b[0m\u001b[0m\n\u001b[1;32m      5\u001b[0m \u001b[0;34m\u001b[0m\u001b[0m\n",
            "\u001b[0;31mTypeError\u001b[0m: 'builtin_function_or_method' object is not subscriptable"
          ]
        }
      ]
    },
    {
      "cell_type": "markdown",
      "source": [
        ""
      ],
      "metadata": {
        "id": "Co5es3WXpzDG"
      }
    }
  ]
}
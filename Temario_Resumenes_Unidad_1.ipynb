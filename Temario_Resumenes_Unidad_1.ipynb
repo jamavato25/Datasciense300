{
  "nbformat": 4,
  "nbformat_minor": 0,
  "metadata": {
    "colab": {
      "name": "Temario Resumenes Unidad 1.ipynb",
      "provenance": [],
      "authorship_tag": "ABX9TyPkFn7ETrIfrZDxUV8qzEYW",
      "include_colab_link": true
    },
    "kernelspec": {
      "name": "python3",
      "display_name": "Python 3"
    },
    "language_info": {
      "name": "python"
    }
  },
  "cells": [
    {
      "cell_type": "markdown",
      "metadata": {
        "id": "view-in-github",
        "colab_type": "text"
      },
      "source": [
        "<a href=\"https://colab.research.google.com/github/jamavato25/Datasciense300/blob/main/Temario_Resumenes_Unidad_1.ipynb\" target=\"_parent\"><img src=\"https://colab.research.google.com/assets/colab-badge.svg\" alt=\"Open In Colab\"/></a>"
      ]
    },
    {
      "cell_type": "markdown",
      "source": [
        "Tipos Básicos\n",
        "\n",
        "Números\n",
        "\n",
        "1. Entero como puede ser 3 (int)\n",
        "2. Flotante 15,65 (float)\n",
        "3. Complex (complejos) 7+5j"
      ],
      "metadata": {
        "id": "aovUWWsp_DTK"
      }
    },
    {
      "cell_type": "code",
      "source": [
        "e = 123\n",
        "print(e)\n",
        "type(e)\n",
        "\n",
        "float(e) #Convierte el número entero a Float o etc: int() float() complex()"
      ],
      "metadata": {
        "colab": {
          "base_uri": "https://localhost:8080/"
        },
        "id": "h8rNNec5_zKR",
        "outputId": "d4c34a40-b53e-44fb-cbde-65285e622cf3"
      },
      "execution_count": 21,
      "outputs": [
        {
          "output_type": "stream",
          "name": "stdout",
          "text": [
            "123\n"
          ]
        },
        {
          "output_type": "execute_result",
          "data": {
            "text/plain": [
              "123.0"
            ]
          },
          "metadata": {},
          "execution_count": 21
        }
      ]
    },
    {
      "cell_type": "code",
      "source": [
        "s = 6\n",
        "u = 20\n",
        "w =35\n",
        "So = (s + u - w)\n",
        "print(So)"
      ],
      "metadata": {
        "colab": {
          "base_uri": "https://localhost:8080/"
        },
        "id": "n1u-NvLlFyGR",
        "outputId": "29cf159a-e26f-4fef-d9ee-4588b5ece617"
      },
      "execution_count": 15,
      "outputs": [
        {
          "output_type": "stream",
          "name": "stdout",
          "text": [
            "-9\n"
          ]
        }
      ]
    },
    {
      "cell_type": "code",
      "source": [
        "T = 123.67\n",
        "print(T)\n",
        "type(T)\n",
        "\n",
        "t = 0.1e-3\n",
        "print(t)\n",
        "int(T)"
      ],
      "metadata": {
        "colab": {
          "base_uri": "https://localhost:8080/"
        },
        "id": "l1UNUWsqDDuY",
        "outputId": "4d4f3b59-0c26-4e75-e5e7-bf8afd59ae64"
      },
      "execution_count": 18,
      "outputs": [
        {
          "output_type": "stream",
          "name": "stdout",
          "text": [
            "123.67\n",
            "0.0001\n"
          ]
        },
        {
          "output_type": "execute_result",
          "data": {
            "text/plain": [
              "123"
            ]
          },
          "metadata": {},
          "execution_count": 18
        }
      ]
    },
    {
      "cell_type": "code",
      "source": [
        "C = \"Hola Mundo\"\n",
        "print(C)\n",
        "type(C)"
      ],
      "metadata": {
        "colab": {
          "base_uri": "https://localhost:8080/"
        },
        "id": "Ajg2mu1bAACj",
        "outputId": "05311f1a-9e1f-414a-8260-0dacac4694bd"
      },
      "execution_count": 7,
      "outputs": [
        {
          "output_type": "stream",
          "name": "stdout",
          "text": [
            "Hola Mundo\n"
          ]
        },
        {
          "output_type": "execute_result",
          "data": {
            "text/plain": [
              "str"
            ]
          },
          "metadata": {},
          "execution_count": 7
        }
      ]
    }
  ]
}
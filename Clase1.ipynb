{
  "nbformat": 4,
  "nbformat_minor": 0,
  "metadata": {
    "colab": {
      "name": "Clase1.ipynb",
      "provenance": [],
      "authorship_tag": "ABX9TyMLllY4T4KOUOFyxIKPyi4E",
      "include_colab_link": true
    },
    "kernelspec": {
      "name": "python3",
      "display_name": "Python 3"
    },
    "language_info": {
      "name": "python"
    }
  },
  "cells": [
    {
      "cell_type": "markdown",
      "metadata": {
        "id": "view-in-github",
        "colab_type": "text"
      },
      "source": [
        "<a href=\"https://colab.research.google.com/github/jamavato25/Datasciense300/blob/main/Clase1.ipynb\" target=\"_parent\"><img src=\"https://colab.research.google.com/assets/colab-badge.svg\" alt=\"Open In Colab\"/></a>"
      ]
    },
    {
      "cell_type": "code",
      "metadata": {
        "id": "44XKMRXSvwQK"
      },
      "source": [
        ""
      ],
      "execution_count": null,
      "outputs": []
    },
    {
      "cell_type": "markdown",
      "metadata": {
        "id": "9gDERJwTwruu"
      },
      "source": [
        "# Nueva sección"
      ]
    },
    {
      "cell_type": "code",
      "metadata": {
        "id": "6bi1bK1vCZXX",
        "outputId": "d2b94d8e-fa9f-40ea-94af-20c52e2cb04f",
        "colab": {
          "base_uri": "https://localhost:8080/"
        }
      },
      "source": [
        "celular_0={}\n",
        "celular_0['color']='negro'\n",
        "celular_0['pantalla']='liquida'\n",
        "celular_0['ram']=32\n",
        "celular_0['camara']='sencilla'\n",
        "celular_0['precio']=600\n",
        "\n",
        "celular_1={}\n",
        "celular_1['color']='gris'\n",
        "celular_1['pantalla']='tactil'\n",
        "celular_1['ram']=128\n",
        "celular_1['camara']='doble'\n",
        "celular_1['precio']=700\n",
        "\n",
        "celular_2={}\n",
        "celular_2['color']='dorado'\n",
        "celular_2['pantalla']='touch'\n",
        "celular_2['ram']=256\n",
        "celular_2['camara']='triple'\n",
        "celular_2['precio']=850\n",
        "\n",
        "compra0=celular_0['precio']\n",
        "compra1=celular_1['precio']\n",
        "compra2=celular_2['precio']\n",
        "\n",
        "compratotal=compra0+compra1+compra2\n",
        "\n",
        "\n",
        "print(\"La compra total fue de:\",Compratotal)\n",
        "\n"
      ],
      "execution_count": 14,
      "outputs": [
        {
          "output_type": "stream",
          "name": "stdout",
          "text": [
            "La compra total fue de: 2150\n"
          ]
        }
      ]
    }
  ]
}
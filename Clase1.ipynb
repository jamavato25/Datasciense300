{
  "nbformat": 4,
  "nbformat_minor": 0,
  "metadata": {
    "colab": {
      "name": "Clase1.ipynb",
      "provenance": [],
      "authorship_tag": "ABX9TyOsn/LIAhP0o+at1pM1dupz",
      "include_colab_link": true
    },
    "kernelspec": {
      "name": "python3",
      "display_name": "Python 3"
    },
    "language_info": {
      "name": "python"
    }
  },
  "cells": [
    {
      "cell_type": "markdown",
      "metadata": {
        "id": "view-in-github",
        "colab_type": "text"
      },
      "source": [
        "<a href=\"https://colab.research.google.com/github/jamavato25/Datasciense300/blob/main/Clase1.ipynb\" target=\"_parent\"><img src=\"https://colab.research.google.com/assets/colab-badge.svg\" alt=\"Open In Colab\"/></a>"
      ]
    },
    {
      "cell_type": "code",
      "metadata": {
        "id": "44XKMRXSvwQK"
      },
      "source": [
        ""
      ],
      "execution_count": null,
      "outputs": []
    },
    {
      "cell_type": "markdown",
      "metadata": {
        "id": "9gDERJwTwruu"
      },
      "source": [
        "# Nueva sección"
      ]
    },
    {
      "cell_type": "code",
      "metadata": {
        "id": "6bi1bK1vCZXX"
      },
      "source": [
        "Celular_0-{}\n",
        "Celular_0-['color']='negro'\n",
        "Celular_0-['pantalla']='liquida'\n",
        "Celular_0-['ram']=32\n",
        "Celular_0-['camara']='sencilla'\n",
        "Celular_0-['precio']=600\n",
        "\n",
        "Celular_1-{}\n",
        "Celular_1-['color']='gris'\n",
        "Celular_1-['pantalla']='tactil'\n",
        "Celular_1-['ram']=128\n",
        "Celular_1-['camara']='doble'\n",
        "Celular_1-['precio']=700\n",
        "\n",
        "Celular_2-{}\n",
        "Celular_2-['color']='dorado'\n",
        "Celular_2-['pantalla']='touch'\n",
        "Celular_2-['ram']=256\n",
        "Celular_2-['camara']='triple'\n",
        "Celular_2-['precio']=850\n",
        "\n",
        "Compratotal=Celular_0[\"precio\"]+Celular_1\n",
        "\n"
      ],
      "execution_count": null,
      "outputs": []
    }
  ]
}
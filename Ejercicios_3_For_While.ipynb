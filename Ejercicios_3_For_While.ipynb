{
  "nbformat": 4,
  "nbformat_minor": 0,
  "metadata": {
    "colab": {
      "name": "Ejercicios_3_For, While.ipynb",
      "provenance": [],
      "collapsed_sections": [],
      "include_colab_link": true
    },
    "kernelspec": {
      "name": "python3",
      "display_name": "Python 3"
    },
    "language_info": {
      "name": "python"
    }
  },
  "cells": [
    {
      "cell_type": "markdown",
      "metadata": {
        "id": "view-in-github",
        "colab_type": "text"
      },
      "source": [
        "<a href=\"https://colab.research.google.com/github/jamavato25/Datasciense300/blob/main/Ejercicios_3_For_While.ipynb\" target=\"_parent\"><img src=\"https://colab.research.google.com/assets/colab-badge.svg\" alt=\"Open In Colab\"/></a>"
      ]
    },
    {
      "cell_type": "markdown",
      "metadata": {
        "id": "_XBLq0MTOhWu"
      },
      "source": [
        "# Ejercicio 1\n",
        "\n",
        "Escribir un programa para mostrar sólo los números de una lista (dada) que cumplan las condiciones siguientes ✈⏰♥⌛⛸🏀\n",
        "\n",
        "```lista = [14, 75, 150, 180, 145, 525, 50, 10, 56,55]```\n",
        "\n",
        "1. El número debe ser divisible por cinco 🙏\n",
        "2. Si el número es mayor que 150, sáltelo y pase al siguiente número 🫂\n",
        "3. Si el número es mayor que 500, paren el bucle 🔊"
      ]
    },
    {
      "cell_type": "code",
      "metadata": {
        "id": "KDaEy559chco",
        "colab": {
          "base_uri": "https://localhost:8080/"
        },
        "outputId": "2bbf7219-ae05-40c6-f4fe-a949403212f4"
      },
      "source": [
        "import numpy as np\n",
        "lista = [14, 75, 150, 180, 145, 525, 50, 10, 56,55]\n",
        "for i in lista:\n",
        "    if i >500:\n",
        "         break\n",
        "    elif i > 150:\n",
        "         continue \n",
        "    elif i % 5 == 0:\n",
        "         print(i)"
      ],
      "execution_count": 10,
      "outputs": [
        {
          "output_type": "stream",
          "name": "stdout",
          "text": [
            "75\n",
            "150\n",
            "145\n"
          ]
        }
      ]
    },
    {
      "cell_type": "markdown",
      "metadata": {
        "id": "Vy7igOV4P05F"
      },
      "source": [
        "# Ejercicio 2\n",
        "\n",
        "\n",
        "Escriba un programa para contar el número **entero** total de dígitos en un número usando un bucle while. ⚪❌💯👍⚡\n",
        "\n",
        "Por ejemplo, el número es 12345, por lo que la salida debe ser 5. 📷🥿🥲😕🔮"
      ]
    },
    {
      "cell_type": "code",
      "metadata": {
        "id": "pG6qSEScciVg",
        "colab": {
          "base_uri": "https://localhost:8080/"
        },
        "outputId": "63fa054c-37bf-4519-e88e-6775978e0127"
      },
      "source": [
        "numero = 12345\n",
        "c = 0\n",
        "while numero != 0:\n",
        "    numero = numero // 10\n",
        "    c = c + 1\n",
        "print(\"Total de digitos son:\", c)"
      ],
      "execution_count": 14,
      "outputs": [
        {
          "output_type": "stream",
          "name": "stdout",
          "text": [
            "Total de digitos son: 5\n"
          ]
        }
      ]
    },
    {
      "cell_type": "markdown",
      "metadata": {
        "id": "UQ1RHQk0Qam7"
      },
      "source": [
        "# Ejercicio 3\n",
        "\n",
        "Escriba un programa para usar en bucle para imprimir el siguiente patrón de números inverso. **Ayuda** *Pueden usar un loop anidado* ☣🙂🚒⛴🗃⛲\n",
        "\n",
        "```\n",
        "6 5 4 3 2 1\n",
        "5 4 3 2 1 \n",
        "4 3 2 1 \n",
        "3 2 1\n",
        "2 1 \n",
        "1\n",
        "```"
      ]
    },
    {
      "cell_type": "code",
      "metadata": {
        "id": "zOKon30RQbtb",
        "colab": {
          "base_uri": "https://localhost:8080/"
        },
        "outputId": "966bed82-8d48-43ff-e6fd-7ea4e15acd7a"
      },
      "source": [
        "n = 6\n",
        "k = 6\n",
        "for i in range (0,n+1):\n",
        "    for j in  range(k-i,0,-1):\n",
        "        print(j, end=' ')\n",
        "    print()"
      ],
      "execution_count": 16,
      "outputs": [
        {
          "output_type": "stream",
          "name": "stdout",
          "text": [
            "6 5 4 3 2 1 \n",
            "5 4 3 2 1 \n",
            "4 3 2 1 \n",
            "3 2 1 \n",
            "2 1 \n",
            "1 \n",
            "\n"
          ]
        }
      ]
    },
    {
      "cell_type": "markdown",
      "metadata": {
        "id": "IQhoIRbzSOTv"
      },
      "source": [
        "# Ejercicio 4\n",
        "\n",
        "Escriba un programa para calcular la suma de la siguiente serie hasta el n-ésimo término. 🧉👒😵🧭🈹🥸\n",
        "\n",
        "$$3+33+333+3333+33333+.....$$\n",
        "\n",
        "Por ejemplo, si n = 5 la serie se convertirá en 3 + 33 + 333 + 3333 + 33333 = 37035 🥸💵🐬⚓♊"
      ]
    },
    {
      "cell_type": "code",
      "metadata": {
        "id": "OwEnwVzvco6N",
        "colab": {
          "base_uri": "https://localhost:8080/"
        },
        "outputId": "d18c7429-459e-4fdf-e66a-c7ec0ef5f278"
      },
      "source": [
        "n = int(input('ingrese el valor de n: '))\n",
        "inicio = 3\n",
        "suma_seq = 0\n",
        "for i in range(0, n):\n",
        "    print(inicio, end=\"+\")\n",
        "    suma_seq += inicio\n",
        "    inicio = inicio*10 + 3\n",
        "print(\"\\nLa Suma de la siguiente serie es:\", suma_seq)"
      ],
      "execution_count": 17,
      "outputs": [
        {
          "output_type": "stream",
          "name": "stdout",
          "text": [
            "ingrese el valor de n: 4\n",
            "3+33+333+3333+\n",
            "La Suma de la siguiente serie es: 3702\n"
          ]
        }
      ]
    },
    {
      "cell_type": "markdown",
      "metadata": {
        "id": "H1B88LgXUJqZ"
      },
      "source": [
        "# Ejercicio 5\n",
        "\n",
        "Crear una función que se llama ```funcion_xy``` que tome como argumento una lista de **numeros enteros** (dada, ver mas abajo) y adicionalmente permita la posibilidad de incorporar parametros adicionales ```*args```y ```**kargs```. \n",
        "\n",
        "```lista=[2,1,3,5,4,7,9,8,6,10]```\n",
        "\n",
        "Se requiere que la funcion tenga las siguientes caracteristicas\n",
        "\n",
        "```*args```\n",
        "\n",
        "1. Ordene la lista de menor a mayor y la devuelva como salida.\n",
        "2. Extraiga y muestre solo los numeros pares\n",
        "3. Calcular la media recortada al 10% de la lista. Para eso pueden utilizar importar la siguiente librería:     \n",
        "```from scipy import stats```\n",
        "Y utilizar la función ```stats.trim_mean(lista, 0.1, axis=0)```\n",
        "\n",
        "```**kargs```\n",
        "\n",
        "1. ```reverse == True``` => Debera invertir la lista \n",
        "2. ```odd == True``` => retorna una lista con los nombres 'pares' e 'impares' para cada posicion\n",
        "3. ```filter == True``` => extraer los valores mayores a 4 y mostrarlos\n",
        "\n",
        "\n",
        "**Nota :** En todos los casos n olviden la importancia del return y traten de aplicar todos los conceptos que hemos visto para resolver de la manera más eficiente posible."
      ]
    },
    {
      "cell_type": "code",
      "metadata": {
        "id": "vRwZTH6kcrie",
        "colab": {
          "base_uri": "https://localhost:8080/",
          "height": 129
        },
        "outputId": "74d964df-b1ea-44e9-e096-a515cdb5ad37"
      },
      "source": [
        "from scipy import stats\n",
        "\n",
        "def funcion_xy(l, *args, **kargs):\n",
        "    '''\n",
        "        args disponibles:\n",
        "        1 = ordenar la lista:\n",
        "        2 = extraer numeros pares:\n",
        "        3 = calcular la media recortada 10%\n",
        "    '''\n",
        "    '''\n",
        "\n",
        "       Kargs disponibles:\n",
        "       'reverse'== True => invertir la lista\n",
        "       'odd' == True => retornas una lista con los nombres 'pares' e 'impares'\n",
        "       'filter' == True => extraer los valores mayores a 4\n",
        "    '''\n",
        "    if args:\n",
        "        print('hay parametros simples (numeros) adicionales')\n",
        "        print(args)\n",
        "        if args[0] == 1:\n",
        "          '''1 = ordenar la lista'''\n",
        "          print('ordenando lista')\n",
        "          a = np.sort(l)\n",
        "          return a\n",
        "    elif args[2] == 2:\n",
        "        print('extrayendo pares')\n",
        "        b = [x for x in l if x%2==0] \n",
        "        return b\n",
        "    elif args[0]==3:\n",
        "        print('calculando media recortada 10%,')\n",
        "        c= stats.trim_mean(l, 0.1, axis=0)\n",
        "        return c\n",
        "\n",
        "\n",
        "    if kargs.keys():\n",
        "        print('hay parametros complejos (keywords adicionales')\n",
        "        print(kargs)\n",
        "        if'reverse' in kargs.keys():\n",
        "           if kargs['reverse'] == true:\n",
        "               '''\n",
        "                   reverse a la lista\n",
        "               '''\n",
        "               l.reverse\n",
        "               return\n",
        "    elif 'odd' in kargs.keys():\n",
        "          if kargs['odd'] == true:\n",
        "            '''\n",
        "                devuelvepares e impares\n",
        "            '''\n",
        "            result = []\n",
        "            for i in l:\n",
        "                if i % 2 == 0\n",
        "                     result.append('par')\n",
        "                 else:\n",
        "                   "
      ],
      "execution_count": 46,
      "outputs": [
        {
          "output_type": "error",
          "ename": "SyntaxError",
          "evalue": "ignored",
          "traceback": [
            "\u001b[0;36m  File \u001b[0;32m\"<ipython-input-46-78d334514963>\"\u001b[0;36m, line \u001b[0;32m35\u001b[0m\n\u001b[0;31m    if kargs.keys():\u001b[0m\n\u001b[0m                    ^\u001b[0m\n\u001b[0;31mSyntaxError\u001b[0m\u001b[0;31m:\u001b[0m unexpected EOF while parsing\n"
          ]
        }
      ]
    }
  ]
}